{
  "nbformat": 4,
  "nbformat_minor": 0,
  "metadata": {
    "colab": {
      "private_outputs": true,
      "provenance": [],
      "authorship_tag": "ABX9TyON1ND9bRyI6VRteB7DpRXR",
      "include_colab_link": true
    },
    "kernelspec": {
      "name": "python3",
      "display_name": "Python 3"
    },
    "language_info": {
      "name": "python"
    }
  },
  "cells": [
    {
      "cell_type": "markdown",
      "metadata": {
        "id": "view-in-github",
        "colab_type": "text"
      },
      "source": [
        "<a href=\"https://colab.research.google.com/github/zi-onion/ESAA/blob/main/03_15_seaborn%2CFolium.ipynb\" target=\"_parent\"><img src=\"https://colab.research.google.com/assets/colab-badge.svg\" alt=\"Open In Colab\"/></a>"
      ]
    },
    {
      "cell_type": "markdown",
      "source": [
        "#[Seaborn 라이브러리-  고급 그래프 도구]\n",
        ": Seaborn은 Matplotib의 기능과 스타일을 확장한 파이썬 시각화 도구의 고급 버전이다."
      ],
      "metadata": {
        "id": "LZzyeAwaLKx8"
      }
    },
    {
      "cell_type": "code",
      "execution_count": null,
      "metadata": {
        "id": "LG8MBDGoAQ5d"
      },
      "outputs": [],
      "source": [
        "#데이터셋 가져오기\n",
        "import seaborn as sns\n",
        "\n",
        "titanic = sns.load_dataset('titanic')\n",
        "\n",
        "print(titanic.head())\n",
        "print('\\n')\n",
        "print(titanic.info())"
      ]
    },
    {
      "cell_type": "markdown",
      "source": [
        "##regplot()\n",
        ":서로 다른 2개의 연속 변수 사이의 산점도를 그리고 선형 회귀 분석에 의한 회귀선을 함께 나타낸다."
      ],
      "metadata": {
        "id": "bLnjInp5sHyx"
      }
    },
    {
      "cell_type": "code",
      "source": [
        "#회귀선이 있는 산점도\n",
        "import matplotlib.pyplot as plt\n",
        "import seaborn as sns\n",
        "\n",
        "titanic = sns.load_dataset('titanic')\n",
        "\n",
        "sns.set_style('darkgrid')\n",
        "fig = plt.figure(figsize=(15,5))\n",
        "ax1 = fig.add_subplot(1,2,1)\n",
        "ax2 = fig.add_subplot(1,2,2)\n",
        "\n",
        "sns.regplot(x = 'age',\n",
        "            y = 'fare',\n",
        "            data = titanic,\n",
        "            ax = ax1)\n",
        "\n",
        "sns.regplot(x = 'age',\n",
        "            y = 'fare',\n",
        "            data = titanic,\n",
        "            ax = ax2,\n",
        "            fit_reg = False) #회귀선 미표시\n",
        "\n",
        "plt.show()"
      ],
      "metadata": {
        "id": "VnjuHnewAwB2"
      },
      "execution_count": null,
      "outputs": []
    },
    {
      "cell_type": "markdown",
      "source": [
        "##distplot()\n",
        ": 단변수 데이터의 분포를 확인할 때 이용."
      ],
      "metadata": {
        "id": "sMBRAi9_sCOf"
      }
    },
    {
      "cell_type": "code",
      "source": [
        "#히스토그램/커널 밀도 그래프\n",
        "\n",
        "fig = plt. figure(figsize=(15, 5))\n",
        "ax1 = fig.add_subplot(1, 3, 1)\n",
        "ax2 = fig.add_subplot(1, 3, 2)\n",
        "ax3 = fig.add_subplot(1, 3, 3)\n",
        "\n",
        "#distplot\n",
        "sns.distplot(titanic['fare'],ax=ax1)\n",
        "\n",
        "#kdeplot\n",
        "sns.kdeplot(x='fare',data=titanic,ax=ax2)\n",
        "\n",
        "#histplo\n",
        "sns.histplot(x='fare',data=titanic,ax=ax3)\n",
        "\n",
        "#차트 제목 표시\n",
        "ax1.set_title('titanic fare - hist/ked')\n",
        "ax2.set_title('titanic fare - ked')\n",
        "ax3.set_title('titanic fare - hist')\n",
        "\n",
        "plt.show()"
      ],
      "metadata": {
        "id": "DAiy3jjPA_KO"
      },
      "execution_count": null,
      "outputs": []
    },
    {
      "cell_type": "markdown",
      "source": [
        "##heatmap()\n",
        ": 히트맵을 그리는 메서드\n"
      ],
      "metadata": {
        "id": "60UgkRHHr1AM"
      }
    },
    {
      "cell_type": "code",
      "source": [
        "#히트맵\n",
        "\n",
        "table = titanic.pivot_table(index=['sex'],columns=['class'],aggfunc='size')\n",
        "\n",
        "sns.heatmap(table,\n",
        "            annot = True, fmt = 'd',  #데이터 값 표시 여부, 정수형 포맷\n",
        "            cmap = 'YlGnBu',          #컬러 맵\n",
        "            linewidth = .5,           #구분선\n",
        "            cbar = False)             #컬러 바 표시 여부\n",
        "\n",
        "plt.show()"
      ],
      "metadata": {
        "id": "iG4mAuV5DVl-"
      },
      "execution_count": null,
      "outputs": []
    },
    {
      "cell_type": "markdown",
      "source": [
        "##stripplot()\n",
        ":이산형 변수의 분포를 나타냄.\n",
        "##swarmplot()\n",
        ": 데이터의 분산까지 고려하여, 데\n",
        "이터 포인트가 서로 중복되지 않도록 그린다. 즉, 데이터가 퍼져있는 정도를 입체적으로 볼 수 있음."
      ],
      "metadata": {
        "id": "v3KeqlqCrfqR"
      }
    },
    {
      "cell_type": "code",
      "source": [
        "#범주형 데이터의 산점도\n",
        "\n",
        "#라이브러리 불러오기\n",
        "import matplotlib.pyplot as plt\n",
        "import seaborn as sns\n",
        "\n",
        "#Seaborn 제공 데이터셋 가져오기\n",
        "titanic = sns.load_dataset ('titanic')\n",
        "\n",
        "#스타일 테마 설정(5가지:darkgrid,whitegrid,dark,white,ticks)\n",
        "sns.set_style ('whitegrid')\n",
        "\n",
        "#그래프 객체 생성(figure에 2개의 서브 플롯 생성)\n",
        "fig = plt.figure(figsize=(15, 5))\n",
        "ax1 = fig.add_subplot(1, 2, 1)\n",
        "ax2 = fig.add_subplot(1, 2, 2)\n",
        "\n",
        "#이산형 변수의 분포 데이터 분산 미고려(중복표시O)\n",
        "sns.stripplot(x = \"class\",\n",
        "              y = \"age\",\n",
        "              data = titanic,\n",
        "              ax = ax1)\n",
        "\n",
        "#이산형 변수의 분포 데이터 분산 미고려(중복표시X)\n",
        "sns.swarmplot(x = \"class\",\n",
        "              y = \"age\",\n",
        "              data = titanic,\n",
        "              ax = ax2)\n",
        "\n",
        "#차트 제목 표시\n",
        "ax1.set_title('Strip plot')\n",
        "ax2.set_title('Strip plot')\n",
        "plt.show ()"
      ],
      "metadata": {
        "id": "BIIXKT6TEIX8"
      },
      "execution_count": null,
      "outputs": []
    },
    {
      "cell_type": "markdown",
      "source": [
        "##barplot()"
      ],
      "metadata": {
        "id": "LUd6YWPRrYtR"
      }
    },
    {
      "cell_type": "code",
      "source": [
        "#막대 그래프\n",
        "\n",
        "#그래프 객체 생성(figure에 3개의 서브 플롯 생성)\n",
        "fig = plt. figure(figsize=(15, 5))\n",
        "ax1 = fig.add_subplot(1, 3, 1)\n",
        "ax2 = fig.add_subplot(1, 3, 2)\n",
        "ax3 = fig.add_subplot(1, 3, 3)\n",
        "\n",
        "#x,y축에 변수 할당\n",
        "sns.barplot(x = 'sex', y = 'survived', data = titanic, ax=ax1)\n",
        "\n",
        "#x,y축에 변수 할당 후 hue 옵션 추가\n",
        "sns.barplot(x = 'sex', y = 'survived', hue = 'class',data = titanic, ax=ax2)\n",
        "\n",
        "#x,y축에 변수 할당 후 hue 옵션 추가하여 누적 출력\n",
        "sns.barplot(x = 'sex', y = 'survived', hue = 'class',dodge = False, data = titanic, ax=ax3)\n",
        "\n",
        "#차트 제목 표시\n",
        "ax1.set_title('titanic survived - sex')\n",
        "ax2.set_title('titanic survived - sex/class')\n",
        "ax3.set_title('titanic survived - sex/class(stacked)')\n",
        "\n",
        "plt.show()"
      ],
      "metadata": {
        "id": "e9awY1dTFAY8"
      },
      "execution_count": null,
      "outputs": []
    },
    {
      "cell_type": "markdown",
      "source": [
        "##countplot()\n",
        ": 각 범주에 속하는 데이터의 개수를 막대 그래프로 나타냄"
      ],
      "metadata": {
        "id": "-L3nZ8zYrSh-"
      }
    },
    {
      "cell_type": "code",
      "source": [
        "#빈도 그래프\n",
        "#그래프 객체 생성(figure에 3개의 서브 플롯 생성)\n",
        "fig = plt. figure(figsize=(15, 5))\n",
        "ax1 = fig.add_subplot(1, 3, 1)\n",
        "ax2 = fig.add_subplot(1, 3, 2)\n",
        "ax3 = fig.add_subplot(1, 3, 3)\n",
        "#기본\n",
        "sns.countplot(x='class', palette='Set1', data=titanic, ax=ax1)\n",
        "\n",
        "#hue에 'who'추가\n",
        "sns.countplot(x='class', hue='who', palette='Set2', data=titanic, ax=ax2)\n",
        "\n",
        "#dodge=False 옵션 추가(축 방향으로 분리하지 않고 누적 그래프 출력)\n",
        "sns.countplot(x='class', hue='who', palette='Set3', dodge=False, data=titanic, ax=ax3)\n",
        "\n",
        "#차트 제목 표시\n",
        "ax1.set_title('titanic class')\n",
        "ax2.set_title('titanic class - who')\n",
        "ax3.set_title('titanic class - who(stacked)')\n",
        "\n",
        "plt.show()"
      ],
      "metadata": {
        "id": "lf2D89sRF31H"
      },
      "execution_count": null,
      "outputs": []
    },
    {
      "cell_type": "markdown",
      "source": [
        "## boxplot()\n",
        ":범주형 데이터 분포와 주요 통계 지표를 함께 제공\n",
        "##  violinplot()\n",
        ": 박스 플롯만으로는 데이터가 퍼져있는 분산의 정도를 정확히 알기 어렵기에 함께 그리기도 함."
      ],
      "metadata": {
        "id": "3KC98WsFq0Cs"
      }
    },
    {
      "cell_type": "code",
      "source": [
        "#박스 플롯/바이올린 그래프\n",
        "\n",
        "#라이브러리 불러오기\n",
        "import matplotlib.pyplot as plt\n",
        "import seaborn as sns\n",
        "\n",
        "#Seaborn 제공 데이터셋 가져오기\n",
        "titanic = sns.load_dataset ('titanic')\n",
        "\n",
        "#스타일 테마 설정(5가지:darkgrid,whitegrid,dark,white,ticks)\n",
        "sns.set_style ('whitegrid')\n",
        "\n",
        "#그래프 객체 생성(figure에 2개의 서브 플롯 생성)\n",
        "fig = plt.figure(figsize=(15, 10))\n",
        "ax1 = fig.add_subplot(2, 2, 1)\n",
        "ax2 = fig.add_subplot(2, 2, 2)\n",
        "ax3 = fig.add_subplot(2, 2, 3)\n",
        "ax4 = fig.add_subplot(2, 2, 4)\n",
        "\n",
        "#박스 플롯 - 기본값\n",
        "sns.boxplot(x='alive', y='age', data=titanic, ax=ax1)\n",
        "\n",
        "#바이올린 그래프 - hue 변수 추가\n",
        "sns.boxplot(x='alive', y='age',hue='sex',data=titanic, ax=ax2)\n",
        "\n",
        "#바이올린 - 기본값\n",
        "sns.violinplot(x='alive', y='age',data=titanic, ax=ax3)\n",
        "\n",
        "#바이올린 그래프 - hue 변수 추가\n",
        "sns.violinplot(x='alive', y='age',hue='sex',data=titanic,ax=ax4)\n",
        "\n",
        "plt.show()"
      ],
      "metadata": {
        "id": "9mKhA6naHjX3"
      },
      "execution_count": null,
      "outputs": []
    },
    {
      "cell_type": "markdown",
      "source": [
        "##jointplot()\n",
        ": 산점도를 기본으로 표시하고, x-y축에 각 변수에 대한 히스토그램을 동시에 보여주기에 두 변수의 관계와 데이터가 분산되어 있는 정도를 한눈에 파악하기 좋다."
      ],
      "metadata": {
        "id": "SWzmrQAyqmLz"
      }
    },
    {
      "cell_type": "code",
      "source": [
        "#조인트 그래프\n",
        "\n",
        "#라이브러리 불러오기\n",
        "import matplotlib.pyplot as plt\n",
        "import seaborn as sns\n",
        "\n",
        "#Seaborn 제공 데이터셋 가져오기\n",
        "titanic = sns.load_dataset ('titanic')\n",
        "\n",
        "#스타일 테마 설정(5가지:darkgrid,whitegrid,dark,white,ticks)\n",
        "sns.set_style ('whitegrid')\n",
        "\n",
        "#조인트 그래프 - 산점도(기본값)\n",
        "j1 = sns.jointplot(x='fare',y='age',data=titanic)\n",
        "#조인트 그래프 - 회귀선\n",
        "j2 = sns.jointplot(x='fare',y='age',kind='reg', data=titanic)\n",
        "#조인트 그래프 - 육각그래프\n",
        "j3 = sns.jointplot(x='fare',y='age',kind='hex', data=titanic)\n",
        "#조인트 그래프 - 커널 밀집 그래프\n",
        "j4 = sns.jointplot(x='fare',y='age',kind='kde', data=titanic)\n",
        "\n",
        "#차트 제목 표시\n",
        "j1.fig.suptitle('titanic fare - scatter', size=15)\n",
        "j2.fig.suptitle('titanic fare - reg', size=15)\n",
        "j3.fig.suptitle('titanic fare - hex', size=15)\n",
        "j4.fig.suptitle('titanic fare - kde', size=15)\n",
        "\n",
        "plt.show()"
      ],
      "metadata": {
        "id": "3FEbrmeqI0Np"
      },
      "execution_count": null,
      "outputs": []
    },
    {
      "cell_type": "markdown",
      "source": [
        "## FacetGrid()\n",
        ": 행, 열방향으로 서로 다른 조건을 적용하여 여러개의 서브 플롯을 만들고, 각 서브 플롯에 적용할 그래프 종류를 map 메서드를 통해 그리드 객체에 전달함."
      ],
      "metadata": {
        "id": "bqEfyEE9qEN7"
      }
    },
    {
      "cell_type": "code",
      "source": [
        "#조건을 적용하여 화면을 그리드로 분할하기\n",
        "\n",
        "#라이브러리 불러오기\n",
        "import matplotlib.pyplot as plt\n",
        "import seaborn as sns\n",
        "\n",
        "#Seaborn 제공 데이터셋 가져오기\n",
        "titanic = sns.load_dataset ('titanic')\n",
        "\n",
        "#스타일 테마 설정(5가지:darkgrid,whitegrid,dark,white,ticks)\n",
        "sns.set_style ('whitegrid')\n",
        "\n",
        "#조건에 따라 그리드 나누기\n",
        "g = sns.FacetGrid(data=titanic,col='who',row='survived')\n",
        "#그래프 적용하기\n",
        "g = g.map(plt.hist, 'age')"
      ],
      "metadata": {
        "id": "JCbbU-BiKLwI"
      },
      "execution_count": null,
      "outputs": []
    },
    {
      "cell_type": "markdown",
      "source": [
        "## pairplot()\n",
        ": 인자로 전달되는 데이터 프레임의 열(변수)을 두 개씩 짝을 지을 수 있는 모든 조합에 대해 표현"
      ],
      "metadata": {
        "id": "21FeoRF8p-sU"
      }
    },
    {
      "cell_type": "code",
      "source": [
        "#이변수 데이터의 분포\n",
        "\n",
        "#titanic 데이터셋 중에서 분석 데이터 선택\n",
        "titanic_pair = titanic[['age','pclass','fare']]\n",
        "\n",
        "#조건에 따라 그리드 나누기\n",
        "g = sns.pairplot(titanic_pair)"
      ],
      "metadata": {
        "id": "NdIE4NQ4KieJ"
      },
      "execution_count": null,
      "outputs": []
    },
    {
      "cell_type": "markdown",
      "source": [
        "#[Folium 라이브러리 - 지도 활용]\n",
        ": 세계지도를 기본 지원하고 다양한 스타일의 지도 이미지를 제공하는 지도 위에 시각화 할 때 유용한 도구이다."
      ],
      "metadata": {
        "id": "mXtT_U5aLN17"
      }
    },
    {
      "cell_type": "markdown",
      "source": [
        "## 지도 만들기: Map()함수\n",
        "줌(zoom) 기능과 화면이동(scroll) 가능"
      ],
      "metadata": {
        "id": "35JDHNakpxeg"
      }
    },
    {
      "cell_type": "code",
      "source": [
        "#지도 만들기\n",
        "\n",
        "import folium\n",
        "\n",
        "#서울 지도 만들기\n",
        "seoul_map = folium.Map(location=[37.55,126.98], zoom_start=12)\n",
        "\n",
        "#지도를 HTML로 저장\n",
        "seoul_map.save('./seoul.html')\n"
      ],
      "metadata": {
        "id": "ZhVb-KeTLl3Z"
      },
      "execution_count": null,
      "outputs": []
    },
    {
      "cell_type": "markdown",
      "source": [
        "## 지도 스타일 적용: Map()함수의 tiles옵션\n",
        "1. 'Stamen Terrain' 맵 : 산악지형이 더 선명하게 표현 됨.\n",
        "2. 'Stamen Toner'맵: 흑백 스타일로 도로망을 강조함."
      ],
      "metadata": {
        "id": "RpHoLs-VpZ_z"
      }
    },
    {
      "cell_type": "code",
      "source": [
        "#지도 스타일 적용하기\n",
        "\n",
        "import folium\n",
        "\n",
        "#서울 지도 만들기\n",
        "seoul_map2 = folium.Map(location=[37.55,126.98], tiles = 'Stamen Terrain',zoom_start=12)\n",
        "seoul_map3 = folium.Map(location=[37.55,126.98], tiles = 'Stamen Toner',zoom_start=15)\n",
        "\n",
        "#지도를 HTML로 저장\n",
        "seoul_map2.save('./seoul2.html') #'Stamen Terrain'은 산악지형이 더 선명\n",
        "seoul_map3.save('./seoul3.html') #'Stamen Toner'은 흑백스타일로 도로망을 강조"
      ],
      "metadata": {
        "id": "GbYRyMM7MAGy"
      },
      "execution_count": null,
      "outputs": []
    },
    {
      "cell_type": "markdown",
      "source": [
        "## Marker()\n",
        ": 위도, 경도 정보를 넣으면 위치를 표시해줌. popup옵 션을 추가하면 마커를 클릭했을 때 팝업창에 표시해주는 텍스트를 넣을 수 있다."
      ],
      "metadata": {
        "id": "AMBSTiZto7in"
      }
    },
    {
      "cell_type": "code",
      "source": [
        "#지도에 마커 표시하기\n",
        "\n",
        "import pandas as pd\n",
        "import folium\n",
        "\n",
        "#대학교 리스트를 데이터프레임으로 변환\n",
        "df = pd.read_excel('./서울지역 대학교 위치.xlsx', engine='openpyxl')\n",
        "\n",
        "#서울 지도 만들기\n",
        "seoul_map = folium.Map(location=[37.55,126.98], tiles = 'Stamen Terrain',zoom_start=12)\n",
        "\n",
        "#대학교 위치 정보를 Marker로 표시\n",
        "for name, lat, lng in zip(df.index,df.위도,df.경도):\n",
        "  folium.Marker([lat,lng],popup=name).add_to(seoul_map)\n",
        "\n",
        "#지도를 HTML 파일로 저장하기\n",
        "seoul_map.save('./seoul_colleges.html')"
      ],
      "metadata": {
        "id": "TEnsPjB0MlPH"
      },
      "execution_count": null,
      "outputs": []
    },
    {
      "cell_type": "code",
      "source": [
        "#지도에 원형 마커 표시\n",
        "\n",
        "import pandas as pd\n",
        "import folium\n",
        "\n",
        "#대학교 리스트를 데이터프레임으로 변환\n",
        "df = pd.read_excel('./서울지역 대학교 위치.xlsx', engine='openpyxl')\n",
        "\n",
        "#서울 지도 만들기\n",
        "seoul_map = folium.Map(location=[37.55,126.98], tiles = 'Stamen Terrain',zoom_start=12)\n",
        "\n",
        "#대학교 위치 정보를 CircleMarker로 표시\n",
        "for name, lat, lng in zip(df.index,df.위도,df.경도):\n",
        "  folium.CircleMarker([lat,lng],\n",
        "                      radius=10,        #원의 반지름\n",
        "                      color='brown',    #원의 둘레 색상\n",
        "                      fill=True,\n",
        "                      fill_color='coral', #원을 채우는 색\n",
        "                      fill_opacity=0.7,   #투명도\n",
        "                      popup=name).add_to(seoul_map)\n",
        "\n",
        "#지도를 HTML 파일로 저장하기\n",
        "seoul_map.save('./seoul_colleges2.html')"
      ],
      "metadata": {
        "id": "2nwbaQ55MxnA"
      },
      "execution_count": null,
      "outputs": []
    },
    {
      "cell_type": "markdown",
      "source": [
        "## Choroleth Map: 행정구역과 같이 지도 상의 어떤 경계에 둘러싸인 영역에 색을 칠하거나 음영 등으로 정보를 나 타내는 시각화 방법"
      ],
      "metadata": {
        "id": "p2Qa1bRoonNn"
      }
    },
    {
      "cell_type": "code",
      "source": [
        "#지도 영역에 단계구분도(Choroleth Map)표시하기\n",
        "\n",
        "import pandas as pd\n",
        "import folium\n",
        "import json\n",
        "\n",
        "#경기도 인구변화 데이터를 불러와서 데이터프레임으로 변환\n",
        "file_path = './경기도인구데이터.xlsx'\n",
        "df = pd.read_excel(file_path,index_col = '구분',engine='openptxl')\n",
        "df.columns = df.columns.map(str)\n",
        "\n",
        "#경기도 시군구 경계 정보를 가진 geo-json 파일 불러오기\n",
        "geo_path ='./경기도행정구역경계.json'\n",
        "try:\n",
        "  geo_data = json.load(open(geo_path,encoding='utf-8'))\n",
        "except:\n",
        "  geo_data = json.load(open(geo_path,encoding='utf-8-sig'))\n",
        "\n",
        "#경기도 지도 만들기\n",
        "g_map = folium.Map(location=[37.5502,126.982],\n",
        "                   tiles = 'Stamen Terrain', zoom_start=9)\n",
        "\n",
        "#출력할 연도 선택(2007~2017년 중에서 선택)\n",
        "year = '2007' # '2017'을 입력하면 2017년도 경기 지역 인구 수 표시 가능\n",
        "\n",
        "#Choropleth 클래스로 단계구분도 표시하기\n",
        "folium.Choropleth(geo_data = geo_data,            #지도 경계\n",
        "                  data = df[year],                #표시하려는 데이터\n",
        "                  columns = [df.index, df[year]], #열 지정\n",
        "                  fill_color = 'YlOrRd',fill_opacity=0.7, line_opacity=0.3,\n",
        "                  threshold_scale = [10000,100000,300000,500000,700000],\n",
        "                  ket_on = 'feature.properties.name',).add_to(g_map)\n",
        " #지도를 HTML 파일로 저장하기\n",
        "g_map.save('./gyonggi_population_' + year + '.html')"
      ],
      "metadata": {
        "id": "4AgljLJAP4qP"
      },
      "execution_count": null,
      "outputs": []
    }
  ]
}