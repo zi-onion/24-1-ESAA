{
  "nbformat": 4,
  "nbformat_minor": 0,
  "metadata": {
    "colab": {
      "private_outputs": true,
      "provenance": [],
      "authorship_tag": "ABX9TyOciOgL3Ic1As39rq1pvOK8",
      "include_colab_link": true
    },
    "kernelspec": {
      "name": "python3",
      "display_name": "Python 3"
    },
    "language_info": {
      "name": "python"
    }
  },
  "cells": [
    {
      "cell_type": "markdown",
      "metadata": {
        "id": "view-in-github",
        "colab_type": "text"
      },
      "source": [
        "<a href=\"https://colab.research.google.com/github/zi-onion/ESAA/blob/main/03_08_pandas.ipynb\" target=\"_parent\"><img src=\"https://colab.research.google.com/assets/colab-badge.svg\" alt=\"Open In Colab\"/></a>"
      ]
    },
    {
      "cell_type": "markdown",
      "source": [
        "##Pandas\n",
        "\n",
        "\n",
        "*   McKinney가 월스트리트 금융 회사의 분석 전문가로 근무하던 중, 기존의 데이터 처리 도구로는 만족스럽지 않아 Pandas를 개발\n",
        "* Pandas는 NumPy를 기반으로 하여, 데이터 핸들링을 더 유연하고 편리하게 수행\n",
        "* Pandas는 Python에서 가장 인기 있는 데이터 처리 라이브러리로, 대부분의 데이터셋이 2차원 형태로 구성되어 있기 때문에 유용하며 다양한 기능을 제공\n",
        "* 내부 데이터뿐만 아니라 CSV 등의 파일을 쉽게 DataFrame으로 변경해 데이터의 가공/분석에 편리\n",
        "\n",
        "\n",
        "\n",
        "\n"
      ],
      "metadata": {
        "id": "-kRjxa6UVTxU"
      }
    },
    {
      "cell_type": "markdown",
      "source": [
        "### 판다스 시작 - 파일을 DataFrame으로 로딩, 기본 API"
      ],
      "metadata": {
        "id": "SSpfph96X8xj"
      }
    },
    {
      "cell_type": "code",
      "execution_count": null,
      "metadata": {
        "id": "FbfuOPZ8UJHo"
      },
      "outputs": [],
      "source": [
        "import pandas as pd"
      ]
    },
    {
      "cell_type": "markdown",
      "source": [
        "\n",
        "* 판다스는 다양한 포맷으로 된 파일을 DataFrame으로 로딩할 수 있는 편리한 API를 제공  ex)read_csv(),read_table(),read_fwf() 등\n",
        "#### - read_csv(): CSV(칼럼을 ;로 구분한 파일 포맷) 파일 포맷 변환을 위한 API\n",
        "* pd.read_csv( )는 호출시 파일명 인자로 들어온 파일을\n",
        "로딩해 DataFrame 객체로 반환.\n",
        "* 파일의 맨 처음 행을 칼럼 명으로 인지 후 칼럼으로 변환함.\n",
        "* 맨 왼쪽의 데이터 값이 행 순으로 적힌 0,1,2,3... 은 칼럼 명도 표시되지 않는 판다스의 Index 객체값임.\n",
        "* DataFrame.head()는 DataFrame의 맨 앞에 있는 N개의 로우를 반환\n",
        "\n",
        "\n",
        "#### - read_table(): read_csv()와 유사하나 tab으로 칼럼을 구분.\n",
        "#### - read_fwf(): Fixed Width,즉 고정 길이 기반의 칼럼 포맷을 DataFrame으로 로딩하기 위한 API. Filepath 에 로드하려는 데이터 파일의 경로를 포함한 파일명을 입력."
      ],
      "metadata": {
        "id": "QS87BXCgX2N9"
      }
    },
    {
      "cell_type": "code",
      "source": [
        "titanic_df = pd.read_csv('/Users/jhb/Desktop/titanic.csv')\n",
        "titanic_df.head(3)"
      ],
      "metadata": {
        "id": "8A8WWndrZLeb"
      },
      "execution_count": null,
      "outputs": []
    },
    {
      "cell_type": "code",
      "source": [
        "print('DataFrame의 크기: ', titanic_df.shape)"
      ],
      "metadata": {
        "id": "rGOy6BTJZgeo"
      },
      "execution_count": null,
      "outputs": []
    },
    {
      "cell_type": "markdown",
      "source": [
        "shape: DataFrame의 행과 열 크기를 튜플 형태로 반환\n"
      ],
      "metadata": {
        "id": "_ERmVMSAZLFe"
      }
    },
    {
      "cell_type": "code",
      "source": [
        "titanic_df.info()"
      ],
      "metadata": {
        "id": "TXPbKRT0Zgbc"
      },
      "execution_count": null,
      "outputs": []
    },
    {
      "cell_type": "markdown",
      "source": [
        "칼럼의 타입, Null 데이터 개수, 데이터 분포도 등 메타 데이터도 조회 가능\n",
        "1. info(): 총 데이터 건수와 데이터 타입, Null 건수를 알 수 있음"
      ],
      "metadata": {
        "id": "NNoj4-JUag5K"
      }
    },
    {
      "cell_type": "code",
      "source": [
        "titanic_df.describe()"
      ],
      "metadata": {
        "id": "0ThUI3wWbBR6"
      },
      "execution_count": null,
      "outputs": []
    },
    {
      "cell_type": "markdown",
      "source": [
        "2. dscribe(): 칼럼별 숫자형 데이터 값의 n-percentile분포도, 평균값, 최댓값, 최솟값을 알 수 있음.(숫자형 데이터)\n",
        "* - count: Not Null인 데이터 건수\n",
        "* - mean: 전체 데이터의 평균값\n",
        "* - std: 표준편차\n",
        "* - min: 최솟값\n",
        "* - max: 최댓값\n",
        "* - 25%: 25percentile 값\n",
        "* - 50%: 50percentile값\n",
        "* - 75%: 75percentile값\n",
        "\n",
        "* Survived: 0과 1로 이뤄진 숫자형 카테고리 칼럼\n",
        "* Pclass: 1, 2, 3으로 이뤄진 숫자형 카테고리 칼럼"
      ],
      "metadata": {
        "id": "R4uROChnaqSO"
      }
    },
    {
      "cell_type": "code",
      "source": [
        "titanic_pclass = titanic_df['Pclass']\n",
        "value_counts = titanic_pclass.value_counts()\n",
        "print(value_counts)"
      ],
      "metadata": {
        "id": "5hB9YN5YcJou"
      },
      "execution_count": null,
      "outputs": []
    },
    {
      "cell_type": "markdown",
      "source": [
        "#### Series\n",
        ": Index와 단 하나의 칼럼으로 구성된 데이터 세트\n",
        "\n",
        "- DataFrame의[] 연산자 내부에 칼럼명을 입력하면 Series 형태로 특정 칼럼 데이터 세트가 반환\n",
        "- value_counts(): 그 Series 객체에 value_counts()를 호출하면 해당 칼럼값 의 유형과 건수 확인 가능.(series객체에서만 정의됨.) -> 반환하는 데이터도 series객체\n",
        "- 인덱스는 단순히 순차 값과 같은 의미없는 식별자만 할당하는 것이 아니라 고유성이 보장된다면 의미있는 데이터 값 할당"
      ],
      "metadata": {
        "id": "QwqY7nCVcVHY"
      }
    },
    {
      "cell_type": "markdown",
      "source": [],
      "metadata": {
        "id": "BIwc0eEZc9_k"
      }
    },
    {
      "cell_type": "code",
      "source": [
        "titanic_pclass.head()"
      ],
      "metadata": {
        "id": "UJwCONMmcU3E"
      },
      "execution_count": null,
      "outputs": []
    },
    {
      "cell_type": "markdown",
      "source": [
        "맨왼쪽에 DataFrame의 인덱스와 동일한 인덱스인 0부터 시작하는 순차값이 존재."
      ],
      "metadata": {
        "id": "AZmdvHgsdJW1"
      }
    },
    {
      "cell_type": "markdown",
      "source": [
        "### DataFrame과 리스트, 딕셔너리, 넘파이ndarray 상호변환\n",
        "Dataframe은 파이썬의 리스트, 딕셔너리 그리고 넘파이ndarray등 다양한 데이터로부터 생성되며, 그들로 변환가능함.\n",
        "\n",
        "1.  넘파이ndarray,리스트,딕셔너리를 DataFrame으로 변환하기"
      ],
      "metadata": {
        "id": "J1Pvr6RyedYC"
      }
    },
    {
      "cell_type": "code",
      "source": [
        "import numpy as np\n",
        "\n",
        "# 1차원 데이터 변환\n",
        "col_name1=['col1']\n",
        "list1 = [1, 2, 3]\n",
        "array1 = np.array(list1)\n",
        "print('array1 shape:', array1.shape )\n",
        "\n",
        "# 리스트를 이용해 Dataframe 생성.\n",
        "df_list1 =pd.DataFrame(list1, columns=col_name1)\n",
        "print('1차원 리스트로 만든 Dataframe:\\n',df_list1)\n",
        "\n",
        "# 넘파이 ndarray를 이용해 Dataframe 생성.\n",
        "df_array1 = pd.DataFrame (array1, columns=col_name1)\n",
        "print('1차원 ndarray로 만든 Dataframe:\\n', df_array1)\n",
        "\n",
        "\n",
        "#2차원 데이터 변환\n",
        "\n",
        "# 3개의 칼럼명이 필요함.\n",
        "col_name2 = ['co11', 'co12', 'co13']\n",
        "\n",
        "# 2행×3열 형태의 리스트와 ndarray생성한 뒤 이를 Dataframe으로 변환\n",
        "list2 = [[1, 2, 3],\n",
        "         [1, 12, 13]]\n",
        "array2 = np.array(list2)\n",
        "print('array2 shape:', array2.shape )\n",
        "df_list2 = pd.DataFrame(list2, columns=col_name2)\n",
        "print('2차원 리스트로 만든 Dataframe:\\n', df_list2)\n",
        "df_array2 = pd.DataFrame(array2, columns=col_name2)\n",
        "print('2차원 ndarray로 만든 Dataframe:\\n', df_array2)\n",
        "\n",
        "\n",
        "#딕셔너리를 DataFrame으로 변환\n",
        "#Key는 문자열 칼럼명으로 매핑, Value는 리스트형(또는ndarray)칼럼 데이터로 매핑\n",
        "dict ={'col1':[1, 11], 'col2':[2, 22], 'col3':[3, 33]}\n",
        "df_dict = pd.DataFrame(dict)\n",
        "print('딕셔너리로 만든 Dataframe:\\n', df_dict)\n"
      ],
      "metadata": {
        "id": "diHYsl1ce3ud"
      },
      "execution_count": null,
      "outputs": []
    },
    {
      "cell_type": "markdown",
      "source": [
        "2. Dataframe을 넘파이 ndarray, 리스트, 딕셔너리로 변환하기"
      ],
      "metadata": {
        "id": "Ua5KZTy7ga3q"
      }
    },
    {
      "cell_type": "code",
      "source": [
        "# DataFrame을 ndarray로 변환\n",
        "array3 = df_dict.values\n",
        "print('df_dict.values 타입: ', type(array3), 'df_dict.values shape:', array3.shape)\n",
        "print(array3)\n",
        "\n",
        "# DataFrame을 리스트로 변환\n",
        "list3 =df_dict. values.tolist()\n",
        "print('df_dict.values. tolist() 타입: ', type(list3))\n",
        "print(list3)\n",
        "\n",
        "# DataFrame을 딕셔너리로 변환\n",
        "dict3 = df_dict.to_dict('list')\n",
        "print('In df dict. ot dict() 타입:', type(dict3))\n",
        "print (dict3)"
      ],
      "metadata": {
        "id": "ydn23LFpgmXg"
      },
      "execution_count": null,
      "outputs": []
    },
    {
      "cell_type": "markdown",
      "source": [
        "### DataFrame의 칼럼 데이터 세트 생성과 수정"
      ],
      "metadata": {
        "id": "1HiVB6WuhJjL"
      }
    },
    {
      "cell_type": "code",
      "source": [
        "# Tilanic DataFrame의 새로운 칼럼 Age_0을 추가하고 일괄적으로0 값을 할당\n",
        "titanic_df['Age_0']= 0\n",
        "titanic_df.head (3)\n",
        "\n",
        "# 기존 칼럼 Series의 데이터를 이용해 새로운 칼럼 Series 생성\n",
        "titanic_df['Age_by_10'] =titanic_df['Age']*10\n",
        "titanic_df['Family_No'] = titanic_df['SibSp'] + titanic_df['Parch']+1\n",
        "titanic_df.head(3)\n",
        "\n",
        "# 'Age_by10' 칼럼 값을 일괄적으로 기존값+100으로 업데이트\n",
        "titanic_df['Age by_10'] = titanic_df['Age_by_10'] +10\n",
        "titanic_df.head (3)"
      ],
      "metadata": {
        "id": "wj4sTT4phRd1"
      },
      "execution_count": null,
      "outputs": []
    },
    {
      "cell_type": "markdown",
      "source": [
        "### DataFrame 데이터 삭제\n",
        "- drop( )메서드를 이용\n",
        "DataFrame.drop(labels-None, axis-0, index-None, columns-None, level-None, inplace False, errors=\"raise')\n",
        "\n",
        "- 중요한 파라미터\n",
        "  - labels: 원하는 칼럼 명 입력(인덱스로 간주)\n",
        "  - axis: 드롭 방향 지정, axis=0: 행, axis=1: 열\n",
        "  - inplace: 원본 DataFrame의 데이터를 삭제를 결정 (inplace=False이면 데이터 삭제 x, inplace=True이면 삭제)\n"
      ],
      "metadata": {
        "id": "Womz0KWCh62n"
      }
    },
    {
      "cell_type": "code",
      "source": [
        "titanic_drop_df = titanic_df.drop('Age_0', axis=1)\n",
        "titanic_drop_df.head(3)\n",
        "\n",
        "titanic_df.head(3) #원 데이터에서는 삭제된 값이 존재 -> inplace==False가 디폴트이기 때문"
      ],
      "metadata": {
        "id": "grx9ZZsQiAls"
      },
      "execution_count": null,
      "outputs": []
    },
    {
      "cell_type": "code",
      "source": [
        "drop_result = titanic_df.drop(['Age_0', 'Age_by_10,' 'Family_No'], axis=1, inplace=True)\n",
        "print('inplace=True로 drop후 반환된 값:', drop_result)\n",
        "titanic_df.head(3) # 원데이터에서도 삭제됨."
      ],
      "metadata": {
        "id": "AuPwqvCbjMWi"
      },
      "execution_count": null,
      "outputs": []
    },
    {
      "cell_type": "code",
      "source": [
        "#axis=0으로 설정해 index0,1,2(맨 앞 3개 데이터) 로우를 삭제\n",
        "pd.set_option('display.width', 1000)\n",
        "pd. set_option('display .max_colwidth', 15)\n",
        "print('#### before axis 0 drop ####')\n",
        "titanic_df.head(3)\n",
        "\n",
        "titanic_df.drop([0, 1, 2], axis=0, inplace=True)\n",
        "print('#### after axis 0 drop ####')\n",
        "print(titanic_df.head(3))"
      ],
      "metadata": {
        "id": "Wju9l7ODjOOB"
      },
      "execution_count": null,
      "outputs": []
    },
    {
      "cell_type": "markdown",
      "source": [
        "### Index 객체\n",
        "DataFrame, Series의 레코드를 고유하게 식별하는 객체\n",
        "\n",
        "- Index 객체는 식별성 데이터를 1차원array로 가지며 슬라이싱 및 단일 값 반환이 가능하나, 변경은 불가하다.\n",
        "- Index는 연산에서 제외되며 식별에만 사용된다.\n",
        "\n",
        "- reset_index( ) : DataFrame 및 Series에 수행하면 새롭게 인덱스를 연속 숫자형으로 할당함.\n",
        "  - 새 인덱스 할당 후 기존 인덱스는 index라는 새로운 칼럼명으로 추가함.(drop=False)\n",
        "  - 기존 인덱스가 연속된 int 숫자형이 아닐 경우 주로 사용.- Series에 reset_index( )를 적용하면 기존 인덱스가 칼럼으로 추가 돼 칼럼이 2개가 되므로 DataFrame으로 반환. (drop=True로 설정 시 기존 인덱스를 칼럼으로 저장 X -> series 유지)\n"
      ],
      "metadata": {
        "id": "SyFEXzrrjsf8"
      }
    },
    {
      "cell_type": "code",
      "source": [
        "# 원본 파일 다시 로딩\n",
        "titanic_df = pd.read_csv('titanic_train.csv')\n",
        "# Index 객체추출\n",
        "indexes = titanic_df.index\n",
        "print(indexes)\n",
        "# Index객체를 실제 값arrray로 변환\n",
        "print('Index객체array값:1n', indexes.values)"
      ],
      "metadata": {
        "id": "bMQZRfHckFdg"
      },
      "execution_count": null,
      "outputs": []
    },
    {
      "cell_type": "code",
      "source": [
        "# 단일값 반환 및 슬라이싱도 가능\n",
        "print(type(indexes.values))\n",
        "print(indexes.values.shape)\n",
        "print(indexes[:5].values)\n",
        "print(indexes.values[:5])\n",
        "print(indexes[6])"
      ],
      "metadata": {
        "id": "s1EcpKN3kKcO"
      },
      "execution_count": null,
      "outputs": []
    },
    {
      "cell_type": "code",
      "source": [
        "indexes [0] = 5 # 객체 값 변경 불가능"
      ],
      "metadata": {
        "id": "dxqn0kBekQe1"
      },
      "execution_count": null,
      "outputs": []
    },
    {
      "cell_type": "code",
      "source": [
        "# Index는 오직 식별용으로만 사용됨\n",
        "series_fair = titanic_df['Fare']\n",
        "print('Fair Series max 값:', series_fair.max())\n",
        "print('Fair Series sum 값:', series_fair.sum())\n",
        "print('sum() Fair Series:', sum(series_fair))\n",
        "print('Fair Series + 3:\\n', (series_fair + 3).head(3))"
      ],
      "metadata": {
        "id": "F6MribnTkaoi"
      },
      "execution_count": null,
      "outputs": []
    },
    {
      "cell_type": "code",
      "source": [
        "#기존 인덱스는 index라는 새로운 칼럼명으로 추가\n",
        "titanic_reset_df =titanic_df.reset_index(inplace=False)\n",
        "titanic_reset_df.head(3)"
      ],
      "metadata": {
        "id": "isXu7vykkucV"
      },
      "execution_count": null,
      "outputs": []
    },
    {
      "cell_type": "code",
      "source": [
        "#reset_index()\n",
        "print('### before reset_index ###')\n",
        "value_counts = titanic_df['Pclass'].value_counts()\n",
        "print(value_counts)\n",
        "print('value_counts 객체 변수 타입: ' , type(value_counts))\n",
        "new_value_counts = value_counts.reset_index(inplace=False)\n",
        "print('### After reset_index ###')\n",
        "print(new_value_counts)\n",
        "print('new_value_counts 객체 변수 타입:' ,type(new_value_counts))"
      ],
      "metadata": {
        "id": "o2c_g8FCk9o7"
      },
      "execution_count": null,
      "outputs": []
    },
    {
      "cell_type": "markdown",
      "source": [
        "### 데이터셀렉션 및 필터링\n",
        "1. DataFrame의 []연산자"
      ],
      "metadata": {
        "id": "LxfcLKpuldsl"
      }
    },
    {
      "cell_type": "code",
      "source": [],
      "metadata": {
        "id": "O2tn0jCNldcv"
      },
      "execution_count": null,
      "outputs": []
    }
  ]
}